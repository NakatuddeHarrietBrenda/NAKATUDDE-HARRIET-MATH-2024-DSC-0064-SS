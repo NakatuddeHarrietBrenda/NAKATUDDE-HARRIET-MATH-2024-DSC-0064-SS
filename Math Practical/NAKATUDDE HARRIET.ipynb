{
 "cells": [
  {
   "cell_type": "markdown",
   "id": "f0b336ce-ea97-4197-9132-2b22e460df8f",
   "metadata": {},
   "source": [
    "## NAKATUDDE HARRIET 2024/DSC/0064/SS"
   ]
  },
  {
   "cell_type": "markdown",
   "id": "fabe4ea6-3c32-460d-8b9b-78a27952a590",
   "metadata": {},
   "source": [
    "## Question five"
   ]
  },
  {
   "cell_type": "code",
   "execution_count": 1,
   "id": "f2ac526a-984f-4dec-9150-eadaeddd98be",
   "metadata": {},
   "outputs": [],
   "source": [
    "import numpy as np"
   ]
  },
  {
   "cell_type": "code",
   "execution_count": 2,
   "id": "e6a1f166-0816-4a20-b12b-af8875ae6119",
   "metadata": {},
   "outputs": [
    {
     "name": "stdout",
     "output_type": "stream",
     "text": [
      "[[1.  0.2 0.5]\n",
      " [0.2 1.  0.8]\n",
      " [0.5 0.8 1. ]]\n"
     ]
    }
   ],
   "source": [
    "matrix = np.array([[1,0.2,0.5], [0.2,1,0.8], [0.5,0.8,1]])\n",
    "print(matrix) #np.array desplays the matrix"
   ]
  },
  {
   "cell_type": "markdown",
   "id": "ef931dd8-0627-4a70-b288-e947ad32a787",
   "metadata": {},
   "source": [
    "## i)"
   ]
  },
  {
   "cell_type": "code",
   "execution_count": 3,
   "id": "6bc3afeb-f53a-4dde-bcab-6d10932b3f90",
   "metadata": {},
   "outputs": [
    {
     "name": "stdout",
     "output_type": "stream",
     "text": [
      "[[1.  0.2 0.5]\n",
      " [0.2 1.  0.8]\n",
      " [0.5 0.8 1. ]]\n"
     ]
    }
   ],
   "source": [
    "matrix_transpose = np.transpose(matrix) #np.transpose finds the transpose of the matrix\n",
    "print(matrix_transpose)"
   ]
  },
  {
   "cell_type": "markdown",
   "id": "9b751cf8-3dbf-4d91-8b2f-5232b7a00144",
   "metadata": {},
   "source": [
    "## ii)"
   ]
  },
  {
   "cell_type": "code",
   "execution_count": 4,
   "id": "52248292-bbd1-4eb4-9073-06a7770f6fa6",
   "metadata": {},
   "outputs": [
    {
     "name": "stdout",
     "output_type": "stream",
     "text": [
      "0.2299999999999999\n"
     ]
    }
   ],
   "source": [
    "matrix_determinant = np.linalg.det(matrix) #np.linalg.det finds the determinant\n",
    "print(matrix_determinant)"
   ]
  },
  {
   "cell_type": "markdown",
   "id": "dfe66398-4fc2-4d80-b204-cf74ee9c8026",
   "metadata": {},
   "source": [
    "## iii)"
   ]
  },
  {
   "cell_type": "code",
   "execution_count": 5,
   "id": "f8d4f563-4d44-492f-a6e4-916a502c6a9b",
   "metadata": {},
   "outputs": [
    {
     "name": "stdout",
     "output_type": "stream",
     "text": [
      "[[1.  0.2 0.5]\n",
      " [0.5 0.8 1. ]]\n"
     ]
    }
   ],
   "source": [
    "matrix_decompose = np.delete(matrix,1, axis=0)\n",
    "print(matrix_decompose)"
   ]
  },
  {
   "cell_type": "markdown",
   "id": "04836b64-704c-4ebe-b464-9d27eb332150",
   "metadata": {},
   "source": [
    "## iv)"
   ]
  },
  {
   "cell_type": "code",
   "execution_count": 22,
   "id": "9cca6b3f-fd4c-4c1e-9005-f6b89b5738dd",
   "metadata": {},
   "outputs": [
    {
     "ename": "AttributeError",
     "evalue": "module 'numpy' has no attribute 'transform'",
     "output_type": "error",
     "traceback": [
      "\u001b[1;31m---------------------------------------------------------------------------\u001b[0m",
      "\u001b[1;31mAttributeError\u001b[0m                            Traceback (most recent call last)",
      "Cell \u001b[1;32mIn[22], line 1\u001b[0m\n\u001b[1;32m----> 1\u001b[0m matrix_transform \u001b[38;5;241m=\u001b[39m \u001b[43mnp\u001b[49m\u001b[38;5;241;43m.\u001b[39;49m\u001b[43mtransform\u001b[49m(matrix)\n\u001b[0;32m      2\u001b[0m \u001b[38;5;28mprint\u001b[39m(matrix_transform)\n",
      "File \u001b[1;32m~\\AppData\\Local\\Programs\\Python\\Python312\\Lib\\site-packages\\numpy\\__init__.py:428\u001b[0m, in \u001b[0;36m__getattr__\u001b[1;34m(attr)\u001b[0m\n\u001b[0;32m    425\u001b[0m     \u001b[38;5;28;01mimport\u001b[39;00m \u001b[38;5;21;01mnumpy\u001b[39;00m\u001b[38;5;21;01m.\u001b[39;00m\u001b[38;5;21;01mchar\u001b[39;00m \u001b[38;5;28;01mas\u001b[39;00m \u001b[38;5;21;01mchar\u001b[39;00m\n\u001b[0;32m    426\u001b[0m     \u001b[38;5;28;01mreturn\u001b[39;00m char\u001b[38;5;241m.\u001b[39mchararray\n\u001b[1;32m--> 428\u001b[0m \u001b[38;5;28;01mraise\u001b[39;00m \u001b[38;5;167;01mAttributeError\u001b[39;00m(\u001b[38;5;124m\"\u001b[39m\u001b[38;5;124mmodule \u001b[39m\u001b[38;5;132;01m{!r}\u001b[39;00m\u001b[38;5;124m has no attribute \u001b[39m\u001b[38;5;124m\"\u001b[39m\n\u001b[0;32m    429\u001b[0m                      \u001b[38;5;124m\"\u001b[39m\u001b[38;5;132;01m{!r}\u001b[39;00m\u001b[38;5;124m\"\u001b[39m\u001b[38;5;241m.\u001b[39mformat(\u001b[38;5;18m__name__\u001b[39m, attr))\n",
      "\u001b[1;31mAttributeError\u001b[0m: module 'numpy' has no attribute 'transform'"
     ]
    }
   ],
   "source": [
    "matrix_transform = np.transform(matrix)\n",
    "print(matrix_transform)"
   ]
  },
  {
   "cell_type": "markdown",
   "id": "4f22cfde-e588-48a9-97c9-1fe9a8fb1cc1",
   "metadata": {},
   "source": [
    "##  Question six"
   ]
  },
  {
   "cell_type": "code",
   "execution_count": 7,
   "id": "7db6b142-fb1b-4b34-baab-0af198cee6d6",
   "metadata": {},
   "outputs": [],
   "source": [
    "import numpy as np\n",
    "import matplotlib.pyplot as plt\n",
    "import seaborn as sns\n",
    "from numpy import random"
   ]
  },
  {
   "cell_type": "markdown",
   "id": "1c887f62-6339-4554-b97e-64778b53f5b2",
   "metadata": {},
   "source": [
    "## i)"
   ]
  },
  {
   "cell_type": "code",
   "execution_count": 14,
   "id": "85a3c588-7477-4e37-ae08-bd4137ba5f20",
   "metadata": {},
   "outputs": [
    {
     "name": "stdout",
     "output_type": "stream",
     "text": [
      "[ 3  2  2  6  6  4  3  6  6  6  2  7  4  5  4  1  5  3  4  4  2  6  5  6\n",
      "  7  9  3  4  6  7  7  4  1  9  5  6  2  3  7  4  3  3  2  4  4  7  5  5\n",
      "  7  6  5  5  6  4  6  6  5  5  6  4  3  5  5  6  5  1  9  6  6  4  8  3\n",
      "  6  3  9  5  5  4  9  6  5  4  6  5  9  1  3  6  4  3  4  3  3  5  7 14\n",
      "  3  5  4  1  5  3 10  3  5  5  0 10  6  2  6 10  5  5  6  5  2  8  9  3\n",
      "  5  3  3  5  5  4  4  4  3  4  6  4  5  7  9  5  6  4  3  8  2  3  4  5\n",
      "  5  5  5  6  7  8  5  6  2  5  5  3  8  6  7  7  5  3  6  5  2  4  9  7\n",
      "  2  8  5  4  7  5  7  5  4  6  8  5  9  7  7  5  7  4  3  7  7  3  5  5\n",
      "  9  3  2  1  4  6  5  6  7  3  5  4  3  7  7  3  8 11  6  3  3  8  5  5\n",
      "  4  7  5  2  7 11  8  7  2  3  4  3  3  3  5  5  5  3  4  2  2  4  8  6\n",
      "  5  3  7  4  2  1  4  7  4  4  6  3  3  5  2  4  6 12  8  7  3  8  7  3\n",
      "  8  6  8  6  4  3  2  5  2  3  3 10  2  9  4  5  1  5  5  7  3  4  3  4\n",
      "  9  2  6  6  4  4  4  5  3  2  4  2  5  3  6  7  6  8  4  1  5  4  4  4\n",
      "  3  3  2  4 14  4  2  7  6  5  2  5  5  4  3  3  4  5  3  1  8  8  4  3\n",
      "  2  2  3  6  6  5  9  5  5  1  6  8  4  5  5  2  6  8  6  6  4  9  6  5\n",
      "  1  5 11  9  3  1  3  1  5  5  8 11  4  3  2  7  2  3  3  7  5  4  2  3\n",
      "  6  4  6  4  9  7  6  5  5  3  3  3  6  4 10  7  7  8  3 10  4  4  8  3\n",
      "  5  7  5  1  6  6  5  3  4  6  3  7  4  6  6  4  1  2  5  1  6  6  6  4\n",
      "  5  3  4  6  2  6  5  6  4  1  3  5  3  5  5  5  7  2  8  8  1  3  7  0\n",
      "  6  9  3  5  6  5  4  5  7  6  9  1  4  6  4  5  3  5  6  4  4  6  2  3\n",
      "  6  2  2  5  6  4 10  8  3  4  5  4  4  9  5  3  3  7  3  5  1  7  4  2\n",
      "  6  8  5  4  6  7  5  4  5  7  7  3  6  8  6  3  3  8  9  7  8  2  8  2\n",
      "  4  6  5  4  9  4  6  3  4  6  5  8  5  3  7  2  1  0  6  4  5  3 12  1\n",
      "  5  7  5  7  3  8  7  4  5  4 10  7  2  5  8  2  4  7  2  5  5  3  4  6\n",
      "  3  2  6  6  4  6  7  5 11  6  4  4  4  3  3  7  6  8  5  6  5  3  5  3\n",
      "  6  2  5  7  3  3  3  6  8  3  6  5  4  2  6  2  3  6  6  5  4  4  1  7\n",
      "  8  4  3  7  3  5  4  3 11  4  4  7  2  3  5  5  5  4  2  7  8  4  5  7\n",
      "  2  8  3  3  6  4  3  3  5  8  4  3  5  4  4  3  4  8  3  3  4  4  1  5\n",
      "  9  1  6  6 13  4  9  6  2  7  5  4  8  7  3  2  3  6  3  3  4  8  3  6\n",
      "  3  4  3  1  8  1 11  1  8  6  5  3  5  4  0  7  5  5  5  7  6  3  5  7\n",
      "  4  8  7  3  3  5  6  4  3  5  7  2  3  3  2  2  3  9  7  5  5  2  4  7\n",
      " 10  4  1  6  4 10  7  8  6  6  4 10  4  4  6  4  8  7 10 16  8  7  3  5\n",
      "  4  3  6  4  3  4  5  5  4  5  5  5  3  7  5  6  4  6  4  4  5  6  5  3\n",
      "  3  7  5  6  2  5  6  4  4  6  4  5  3  6  2  1  6  7  4  7  3  7  8  3\n",
      "  8  6  7  9  5  6  4  2  7  5  9  5  5  4  5  5  6  3  2  3  7  7  6  2\n",
      "  3  5 10  8  6  5  8  7  5  5  6  5  3  8  5  3  3  4  6  5  0  5  4  6\n",
      "  6  5  5  8  7  5  2  7  3  4  3  1  4  4  6  4  6  2  5  4  4  5  8  4\n",
      "  4  3  7  7  7  8  7  3  5  1  6  6  4  3  4  3  7  8  7  1  7  5  5  7\n",
      "  3  3  3  6  7  4  6  2  7  6  7  5  5  4  4  4  5  5  4  1  5  6  1  3\n",
      "  2  7  5  5  4  4  5  3  9  6  3  1  6  8  4  7  5  3  4  8  4  5  3  7\n",
      "  3  3  4  3 12  8  4  5  3  4  3  6  1  4  8  8  3  5  4  6  6  3  4  1\n",
      "  6  6  4  5  7  9  8  7 10  7  4  7  6  3  6  5]\n"
     ]
    }
   ],
   "source": [
    "poisson_distribution = random.poisson(lam = 5,size=1000) \n",
    "print(poisson_distribution)"
   ]
  },
  {
   "cell_type": "markdown",
   "id": "e0ef6ed3-85f0-46d4-8d51-94753e5ab251",
   "metadata": {},
   "source": [
    "## ii)"
   ]
  },
  {
   "cell_type": "code",
   "execution_count": 9,
   "id": "1b849959-0a62-44a3-b7fc-cd3df5e314aa",
   "metadata": {},
   "outputs": [
    {
     "name": "stdout",
     "output_type": "stream",
     "text": [
      "0.969\n"
     ]
    }
   ],
   "source": [
    "mean = np.mean(poisson_distribution)\n",
    "print(mean)"
   ]
  },
  {
   "cell_type": "code",
   "execution_count": 21,
   "id": "559afd73-2a18-4b4f-a487-bfa484c494a6",
   "metadata": {},
   "outputs": [
    {
     "ename": "AttributeError",
     "evalue": "module 'numpy' has no attribute 'mode'",
     "output_type": "error",
     "traceback": [
      "\u001b[1;31m---------------------------------------------------------------------------\u001b[0m",
      "\u001b[1;31mAttributeError\u001b[0m                            Traceback (most recent call last)",
      "Cell \u001b[1;32mIn[21], line 1\u001b[0m\n\u001b[1;32m----> 1\u001b[0m variance \u001b[38;5;241m=\u001b[39m \u001b[43mnp\u001b[49m\u001b[38;5;241;43m.\u001b[39;49m\u001b[43mmode\u001b[49m(poisson_distribution)\n\u001b[0;32m      2\u001b[0m \u001b[38;5;28mprint\u001b[39m(variance)\n",
      "File \u001b[1;32m~\\AppData\\Local\\Programs\\Python\\Python312\\Lib\\site-packages\\numpy\\__init__.py:428\u001b[0m, in \u001b[0;36m__getattr__\u001b[1;34m(attr)\u001b[0m\n\u001b[0;32m    425\u001b[0m     \u001b[38;5;28;01mimport\u001b[39;00m \u001b[38;5;21;01mnumpy\u001b[39;00m\u001b[38;5;21;01m.\u001b[39;00m\u001b[38;5;21;01mchar\u001b[39;00m \u001b[38;5;28;01mas\u001b[39;00m \u001b[38;5;21;01mchar\u001b[39;00m\n\u001b[0;32m    426\u001b[0m     \u001b[38;5;28;01mreturn\u001b[39;00m char\u001b[38;5;241m.\u001b[39mchararray\n\u001b[1;32m--> 428\u001b[0m \u001b[38;5;28;01mraise\u001b[39;00m \u001b[38;5;167;01mAttributeError\u001b[39;00m(\u001b[38;5;124m\"\u001b[39m\u001b[38;5;124mmodule \u001b[39m\u001b[38;5;132;01m{!r}\u001b[39;00m\u001b[38;5;124m has no attribute \u001b[39m\u001b[38;5;124m\"\u001b[39m\n\u001b[0;32m    429\u001b[0m                      \u001b[38;5;124m\"\u001b[39m\u001b[38;5;132;01m{!r}\u001b[39;00m\u001b[38;5;124m\"\u001b[39m\u001b[38;5;241m.\u001b[39mformat(\u001b[38;5;18m__name__\u001b[39m, attr))\n",
      "\u001b[1;31mAttributeError\u001b[0m: module 'numpy' has no attribute 'mode'"
     ]
    }
   ],
   "source": [
    "variance = np.mode(poisson_distribution)\n",
    "print(variance)"
   ]
  },
  {
   "cell_type": "markdown",
   "id": "1d088d52-a971-4c5e-8272-32e06028d9ff",
   "metadata": {},
   "source": [
    "## iii)"
   ]
  },
  {
   "cell_type": "code",
   "execution_count": 13,
   "id": "3846130e-789f-4763-b134-06ca40bd5027",
   "metadata": {},
   "outputs": [
    {
     "data": {
      "text/plain": [
       "<function matplotlib.pyplot.show(close=None, block=None)>"
      ]
     },
     "execution_count": 13,
     "metadata": {},
     "output_type": "execute_result"
    },
    {
     "data": {
      "image/png": "[encoded data removed]",
      "text/plain": [
       "<Figure size 640x480 with 1 Axes>"
      ]
     },
     "metadata": {},
     "output_type": "display_data"
    }
   ],
   "source": [
    "poisson_data = random.poisson(lam = 5, size = 1000,)\n",
    "sns.histplot(poisson_data, bins = 10, kde = False, color = 'Green')\n",
    "plt. title (\"A poison Distribution\")\n",
    "plt.xlabel ('Mean')\n",
    "plt.ylabel ('Variance')\n",
    "plt.show"
   ]
  },
  {
   "cell_type": "code",
   "execution_count": null,
   "id": "412ab40f-8a12-4f6f-afc6-7dcc00a68c7b",
   "metadata": {},
   "outputs": [],
   "source": []
  },
  {
   "cell_type": "code",
   "execution_count": null,
   "id": "a3b78937-0ca5-409b-9fc6-65536a16f6f1",
   "metadata": {},
   "outputs": [],
   "source": []
  },
  {
   "cell_type": "code",
   "execution_count": null,
   "id": "f4a0e6d6-8864-49af-b58e-3378e04ac4ac",
   "metadata": {},
   "outputs": [],
   "source": []
  }
 ],
 "metadata": {
  "kernelspec": {
   "display_name": "Python 3 (ipykernel)",
   "language": "python",
   "name": "python3"
  },
  "language_info": {
   "codemirror_mode": {
    "name": "ipython",
    "version": 3
   },
   "file_extension": ".py",
   "mimetype": "text/x-python",
   "name": "python",
   "nbconvert_exporter": "python",
   "pygments_lexer": "ipython3",
   "version": "3.12.5"
  }
 },
 "nbformat": 4,
 "nbformat_minor": 5
}
